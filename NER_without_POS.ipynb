{
  "nbformat": 4,
  "nbformat_minor": 0,
  "metadata": {
    "colab": {
      "name": "NLP_NER.ipynb",
      "provenance": [],
      "collapsed_sections": []
    },
    "kernelspec": {
      "name": "python3",
      "display_name": "Python 3"
    }
  },
  "cells": [
    {
      "cell_type": "code",
      "metadata": {
        "id": "idbnHGqMSktr",
        "colab_type": "code",
        "colab": {}
      },
      "source": [
        "import pandas as pd\n",
        "import numpy as np\n",
        "import matplotlib.pyplot as plt\n",
        "%matplotlib inline"
      ],
      "execution_count": 0,
      "outputs": []
    },
    {
      "cell_type": "code",
      "metadata": {
        "id": "dknE3skyZouQ",
        "colab_type": "code",
        "outputId": "53d90a68-a017-482c-948c-c2c90df3a949",
        "colab": {
          "base_uri": "https://localhost:8080/",
          "height": 195
        }
      },
      "source": [
        "ner = pd.read_csv('ner_dataset.csv',encoding='latin1')\n",
        "ner.head()"
      ],
      "execution_count": 9,
      "outputs": [
        {
          "output_type": "execute_result",
          "data": {
            "text/html": [
              "<div>\n",
              "<style scoped>\n",
              "    .dataframe tbody tr th:only-of-type {\n",
              "        vertical-align: middle;\n",
              "    }\n",
              "\n",
              "    .dataframe tbody tr th {\n",
              "        vertical-align: top;\n",
              "    }\n",
              "\n",
              "    .dataframe thead th {\n",
              "        text-align: right;\n",
              "    }\n",
              "</style>\n",
              "<table border=\"1\" class=\"dataframe\">\n",
              "  <thead>\n",
              "    <tr style=\"text-align: right;\">\n",
              "      <th></th>\n",
              "      <th>Sentence #</th>\n",
              "      <th>Word</th>\n",
              "      <th>POS</th>\n",
              "      <th>Tag</th>\n",
              "    </tr>\n",
              "  </thead>\n",
              "  <tbody>\n",
              "    <tr>\n",
              "      <th>0</th>\n",
              "      <td>Sentence: 1</td>\n",
              "      <td>Thousands</td>\n",
              "      <td>NNS</td>\n",
              "      <td>O</td>\n",
              "    </tr>\n",
              "    <tr>\n",
              "      <th>1</th>\n",
              "      <td>NaN</td>\n",
              "      <td>of</td>\n",
              "      <td>IN</td>\n",
              "      <td>O</td>\n",
              "    </tr>\n",
              "    <tr>\n",
              "      <th>2</th>\n",
              "      <td>NaN</td>\n",
              "      <td>demonstrators</td>\n",
              "      <td>NNS</td>\n",
              "      <td>O</td>\n",
              "    </tr>\n",
              "    <tr>\n",
              "      <th>3</th>\n",
              "      <td>NaN</td>\n",
              "      <td>have</td>\n",
              "      <td>VBP</td>\n",
              "      <td>O</td>\n",
              "    </tr>\n",
              "    <tr>\n",
              "      <th>4</th>\n",
              "      <td>NaN</td>\n",
              "      <td>marched</td>\n",
              "      <td>VBN</td>\n",
              "      <td>O</td>\n",
              "    </tr>\n",
              "  </tbody>\n",
              "</table>\n",
              "</div>"
            ],
            "text/plain": [
              "    Sentence #           Word  POS Tag\n",
              "0  Sentence: 1      Thousands  NNS   O\n",
              "1          NaN             of   IN   O\n",
              "2          NaN  demonstrators  NNS   O\n",
              "3          NaN           have  VBP   O\n",
              "4          NaN        marched  VBN   O"
            ]
          },
          "metadata": {
            "tags": []
          },
          "execution_count": 9
        }
      ]
    },
    {
      "cell_type": "code",
      "metadata": {
        "id": "TgFwcaqla-Zf",
        "colab_type": "code",
        "colab": {}
      },
      "source": [
        "ner['Sentence #'] = ner['Sentence #'].ffill()"
      ],
      "execution_count": 0,
      "outputs": []
    },
    {
      "cell_type": "code",
      "metadata": {
        "id": "-tZoHUAVbVI-",
        "colab_type": "code",
        "colab": {}
      },
      "source": [
        "X = ner.drop('POS',axis=1)"
      ],
      "execution_count": 0,
      "outputs": []
    },
    {
      "cell_type": "code",
      "metadata": {
        "id": "CpKLhh1tbuzC",
        "colab_type": "code",
        "colab": {}
      },
      "source": [
        "words = set(X.Word.values)"
      ],
      "execution_count": 0,
      "outputs": []
    },
    {
      "cell_type": "code",
      "metadata": {
        "id": "Oc-sFKeJcJyA",
        "colab_type": "code",
        "outputId": "31919ff0-f10b-482f-a6df-50469a0585cd",
        "colab": {
          "base_uri": "https://localhost:8080/",
          "height": 34
        }
      },
      "source": [
        "len(words)"
      ],
      "execution_count": 39,
      "outputs": [
        {
          "output_type": "execute_result",
          "data": {
            "text/plain": [
              "35178"
            ]
          },
          "metadata": {
            "tags": []
          },
          "execution_count": 39
        }
      ]
    },
    {
      "cell_type": "code",
      "metadata": {
        "id": "GzXzJFf6bvjJ",
        "colab_type": "code",
        "colab": {}
      },
      "source": [
        "tags = set(X.Tag)"
      ],
      "execution_count": 0,
      "outputs": []
    },
    {
      "cell_type": "code",
      "metadata": {
        "id": "YNT48c5Dcd3c",
        "colab_type": "code",
        "colab": {}
      },
      "source": [
        "X_sent = X.groupby('Sentence #').apply(lambda s: [(w,t) for w,t in zip(s['Word'].values,s['Tag'].values)])"
      ],
      "execution_count": 0,
      "outputs": []
    },
    {
      "cell_type": "code",
      "metadata": {
        "id": "JLmmH5gpdLTZ",
        "colab_type": "code",
        "colab": {}
      },
      "source": [
        "from keras.preprocessing.text import Tokenizer\n"
      ],
      "execution_count": 0,
      "outputs": []
    },
    {
      "cell_type": "code",
      "metadata": {
        "id": "2fSzdMb7mPCQ",
        "colab_type": "code",
        "colab": {}
      },
      "source": [
        "max_len = 50"
      ],
      "execution_count": 0,
      "outputs": []
    },
    {
      "cell_type": "code",
      "metadata": {
        "id": "cEEi8BLPfnw3",
        "colab_type": "code",
        "outputId": "6d01de82-364e-490d-f8b9-d7e804527f6e",
        "colab": {
          "base_uri": "https://localhost:8080/",
          "height": 67
        }
      },
      "source": [
        "from keras.preprocessing.sequence import pad_sequences\n",
        "tags2index = {t:i for i,t in enumerate(tags)}\n",
        "y = [[tags2index[w[1]] for w in s] for s in X_sent]\n",
        "y = pad_sequences(maxlen=max_len, sequences=y, padding=\"post\", value=tags2index[\"O\"])\n",
        "y[15]"
      ],
      "execution_count": 46,
      "outputs": [
        {
          "output_type": "execute_result",
          "data": {
            "text/plain": [
              "array([5, 0, 0, 1, 8, 8, 8, 0, 0, 0, 0, 0, 9, 0, 0, 0, 0, 0, 0, 0, 0, 0,\n",
              "       0, 0, 0, 0, 0, 0, 0, 0, 0, 0, 0, 0, 0, 0, 0, 0, 0, 0, 0, 0, 0, 0,\n",
              "       0, 0, 0, 0, 0, 0], dtype=int32)"
            ]
          },
          "metadata": {
            "tags": []
          },
          "execution_count": 46
        }
      ]
    },
    {
      "cell_type": "code",
      "metadata": {
        "id": "iw1yAdpsN7eJ",
        "colab_type": "code",
        "colab": {
          "base_uri": "https://localhost:8080/",
          "height": 302
        },
        "outputId": "d208f1b2-8abe-455e-c884-dc9c2f118a0f"
      },
      "source": [
        "tags2index"
      ],
      "execution_count": 51,
      "outputs": [
        {
          "output_type": "execute_result",
          "data": {
            "text/plain": [
              "{'B-art': 7,\n",
              " 'B-eve': 2,\n",
              " 'B-geo': 16,\n",
              " 'B-gpe': 5,\n",
              " 'B-nat': 15,\n",
              " 'B-org': 12,\n",
              " 'B-per': 1,\n",
              " 'B-tim': 9,\n",
              " 'I-art': 10,\n",
              " 'I-eve': 11,\n",
              " 'I-geo': 6,\n",
              " 'I-gpe': 3,\n",
              " 'I-nat': 4,\n",
              " 'I-org': 14,\n",
              " 'I-per': 8,\n",
              " 'I-tim': 13,\n",
              " 'O': 0}"
            ]
          },
          "metadata": {
            "tags": []
          },
          "execution_count": 51
        }
      ]
    },
    {
      "cell_type": "code",
      "metadata": {
        "id": "xzQIAMWFg0kQ",
        "colab_type": "code",
        "colab": {}
      },
      "source": [
        "#tok = Tokenizer(35178,filters='',lower=True)\n",
        "X = [[str(w[0]) for w in s] for s in X_sent]\n",
        "\n",
        "with open('tok.txt') as json_file:\n",
        "    data = json.load(json_file)\n",
        "from keras.preprocessing.text import tokenizer_from_json\n",
        "tok = tokenizer_from_json(data)\n",
        "len(tok.word_index)\n",
        "tok.fit_on_texts(X)\n",
        "X_seq = tok.texts_to_sequences(X)\n",
        "X_padded = pad_sequences(maxlen=max_len,sequences=X_seq,padding=\"post\")\n",
        "X_padded.shape,y.shape"
      ],
      "execution_count": 0,
      "outputs": []
    },
    {
      "cell_type": "code",
      "metadata": {
        "id": "I2fuh87fhh4m",
        "colab_type": "code",
        "outputId": "39a289b6-8dc5-4003-dd01-8ff62e72af1c",
        "colab": {
          "base_uri": "https://localhost:8080/",
          "height": 34
        }
      },
      "source": [
        "from sklearn.model_selection import train_test_split\n",
        "X_train,X_test,y_train,y_test = train_test_split(X_padded,y,test_size=0.20,random_state = 77)\n",
        "X_train,X_val,y_train,y_val = train_test_split(X_train,y_train,test_size = 0.15,random_state = 77)\n",
        "X_train.shape,y_train.shape,X_val.shape,y_val.shape,X_test.shape,y_test.shape"
      ],
      "execution_count": 57,
      "outputs": [
        {
          "output_type": "execute_result",
          "data": {
            "text/plain": [
              "((32611, 50), (32611, 50), (5756, 50), (5756, 50), (9592, 50), (9592, 50))"
            ]
          },
          "metadata": {
            "tags": []
          },
          "execution_count": 57
        }
      ]
    },
    {
      "cell_type": "code",
      "metadata": {
        "id": "UXO-kM8ZTc89",
        "colab_type": "code",
        "colab": {}
      },
      "source": [
        "idx2tag = {i: w for w, i in tags2index.items()}\n",
        "\n",
        "def pred2label(pred):\n",
        "  out = [] \n",
        "  for pred_i in test_pred:\n",
        "    out_i = []\n",
        "    for p in pred_i:\n",
        "      p_i = np.argmax(p)\n",
        "      out_i.append(idx2tag[p_i])\n",
        "    out.append(out_i)\n",
        "  return out\n",
        "\n",
        "def test2label(pred):\n",
        "    out = []\n",
        "    for pred_i in pred:\n",
        "        out_i = []\n",
        "        for p in pred_i:\n",
        "            out_i.append(idx2tag[p])\n",
        "        out.append(out_i)\n",
        "    return out\n"
      ],
      "execution_count": 0,
      "outputs": []
    },
    {
      "cell_type": "code",
      "metadata": {
        "id": "fBQx__QyjDhg",
        "colab_type": "code",
        "colab": {}
      },
      "source": [
        "from keras.models import Model, Input\n",
        "from keras.layers.merge import add\n",
        "from keras.layers import LSTM, Embedding, Dense, TimeDistributed, Dropout, Bidirectional, Lambda,Flatten"
      ],
      "execution_count": 0,
      "outputs": []
    },
    {
      "cell_type": "code",
      "metadata": {
        "id": "nrV435yUY50M",
        "colab_type": "code",
        "colab": {}
      },
      "source": [
        "!pip install seqeval"
      ],
      "execution_count": 0,
      "outputs": []
    },
    {
      "cell_type": "code",
      "metadata": {
        "id": "EsGLzY5fzjmt",
        "colab_type": "code",
        "colab": {}
      },
      "source": [
        "from seqeval.metrics import precision_score, recall_score, f1_score, classification_report\n",
        "#test_pred = model.predict(np.array(X_test), verbose=1)\n"
      ],
      "execution_count": 0,
      "outputs": []
    },
    {
      "cell_type": "code",
      "metadata": {
        "id": "BRnijH3xUWYG",
        "colab_type": "code",
        "colab": {
          "base_uri": "https://localhost:8080/",
          "height": 353
        },
        "outputId": "05e104b3-ed0d-46d4-9c1c-4570f7387296"
      },
      "source": [
        "!wget http://nlp.stanford.edu/data/glove.6B.zip\n"
      ],
      "execution_count": 60,
      "outputs": [
        {
          "output_type": "stream",
          "text": [
            "--2020-05-19 04:37:16--  http://nlp.stanford.edu/data/glove.6B.zip\n",
            "Resolving nlp.stanford.edu (nlp.stanford.edu)... 171.64.67.140\n",
            "Connecting to nlp.stanford.edu (nlp.stanford.edu)|171.64.67.140|:80... connected.\n",
            "HTTP request sent, awaiting response... 302 Found\n",
            "Location: https://nlp.stanford.edu/data/glove.6B.zip [following]\n",
            "--2020-05-19 04:37:16--  https://nlp.stanford.edu/data/glove.6B.zip\n",
            "Connecting to nlp.stanford.edu (nlp.stanford.edu)|171.64.67.140|:443... connected.\n",
            "HTTP request sent, awaiting response... 301 Moved Permanently\n",
            "Location: http://downloads.cs.stanford.edu/nlp/data/glove.6B.zip [following]\n",
            "--2020-05-19 04:37:16--  http://downloads.cs.stanford.edu/nlp/data/glove.6B.zip\n",
            "Resolving downloads.cs.stanford.edu (downloads.cs.stanford.edu)... 171.64.64.22\n",
            "Connecting to downloads.cs.stanford.edu (downloads.cs.stanford.edu)|171.64.64.22|:80... connected.\n",
            "HTTP request sent, awaiting response... 200 OK\n",
            "Length: 862182613 (822M) [application/zip]\n",
            "Saving to: ‘glove.6B.zip’\n",
            "\n",
            "glove.6B.zip        100%[===================>] 822.24M  2.18MB/s    in 6m 26s  \n",
            "\n",
            "2020-05-19 04:43:42 (2.13 MB/s) - ‘glove.6B.zip’ saved [862182613/862182613]\n",
            "\n"
          ],
          "name": "stdout"
        }
      ]
    },
    {
      "cell_type": "code",
      "metadata": {
        "id": "7xmKNoWPJFNs",
        "colab_type": "code",
        "colab": {}
      },
      "source": [
        "%%capture\n",
        "!unzip glove.6B.zip"
      ],
      "execution_count": 0,
      "outputs": []
    },
    {
      "cell_type": "code",
      "metadata": {
        "id": "_0ZLYqapJtYc",
        "colab_type": "code",
        "colab": {
          "base_uri": "https://localhost:8080/",
          "height": 34
        },
        "outputId": "781407f7-ad9c-4c79-c6d0-fbcf93734b33"
      },
      "source": [
        "word_index = tok.word_index\n",
        "print('Found %s unique tokens.' % len(word_index))"
      ],
      "execution_count": 62,
      "outputs": [
        {
          "output_type": "stream",
          "text": [
            "Found 31817 unique tokens.\n"
          ],
          "name": "stdout"
        }
      ]
    },
    {
      "cell_type": "code",
      "metadata": {
        "id": "kUEAbM3LJv8o",
        "colab_type": "code",
        "colab": {
          "base_uri": "https://localhost:8080/",
          "height": 34
        },
        "outputId": "189dcc9f-ba2e-4e4f-ae14-ce3c51f1f6ab"
      },
      "source": [
        "embeddings_index = {}\n",
        "import os\n",
        "f = open(os.path.join('/content/', 'glove.6B.300d.txt'))\n",
        "for line in f:\n",
        "    values = line.split()\n",
        "    word = values[0]\n",
        "    coefs = np.asarray(values[1:], dtype='float32')\n",
        "    embeddings_index[word] = coefs\n",
        "f.close()\n",
        "\n",
        "print('Found %s word vectors.' % len(embeddings_index))"
      ],
      "execution_count": 63,
      "outputs": [
        {
          "output_type": "stream",
          "text": [
            "Found 400000 word vectors.\n"
          ],
          "name": "stdout"
        }
      ]
    },
    {
      "cell_type": "code",
      "metadata": {
        "id": "fB44zfvCJ89K",
        "colab_type": "code",
        "colab": {}
      },
      "source": [
        "EMBEDDING_DIM = 300\n",
        "embedding_matrix = np.zeros((len(word_index) + 1, EMBEDDING_DIM))\n",
        "for word, i in word_index.items():\n",
        "    embedding_vector = embeddings_index.get(word)\n",
        "    if embedding_vector is not None:\n",
        "        # words not found in embedding index will be all-zeros.\n",
        "        embedding_matrix[i] = embedding_vector"
      ],
      "execution_count": 0,
      "outputs": []
    },
    {
      "cell_type": "code",
      "metadata": {
        "id": "7iWNd2MjJ0Xb",
        "colab_type": "code",
        "colab": {}
      },
      "source": [
        "from keras.layers import Embedding\n",
        "\n",
        "embedding_layer = Embedding(len(word_index) + 1,\n",
        "                            EMBEDDING_DIM,\n",
        "                            weights=[embedding_matrix],\n",
        "                            input_length=50,\n",
        "                            trainable=False)"
      ],
      "execution_count": 0,
      "outputs": []
    },
    {
      "cell_type": "code",
      "metadata": {
        "id": "YzAELtYLGWXJ",
        "colab_type": "code",
        "colab": {
          "base_uri": "https://localhost:8080/",
          "height": 370
        },
        "outputId": "3de4d9c9-e859-432f-f3e7-50ee7562a598"
      },
      "source": [
        "main_input = Input(shape=(50,),name = 'main_input')\n",
        "\n",
        "emb = embedding_layer(main_input)\n",
        "#emb = Embedding(output_dim=512,input_length=50,input_dim = 35178)(main_input)\n",
        "l1 = Bidirectional(LSTM(512,return_sequences=True,recurrent_dropout=0.2,dropout=0.2))(emb)\n",
        "l2 = Bidirectional(LSTM(512,return_sequences=True,recurrent_dropout=0.2,dropout=0.2))(l1)\n",
        "#fl = Flatten()(l2)\n",
        "x = add([l1,l2])\n",
        "out = TimeDistributed(Dense(len(tags),activation=\"softmax\"))(x)\n",
        "model = Model(main_input,out)\n",
        "model.summary()"
      ],
      "execution_count": 67,
      "outputs": [
        {
          "output_type": "stream",
          "text": [
            "Model: \"model_1\"\n",
            "__________________________________________________________________________________________________\n",
            "Layer (type)                    Output Shape         Param #     Connected to                     \n",
            "==================================================================================================\n",
            "main_input (InputLayer)         (None, 50)           0                                            \n",
            "__________________________________________________________________________________________________\n",
            "embedding_1 (Embedding)         (None, 50, 300)      9545400     main_input[0][0]                 \n",
            "__________________________________________________________________________________________________\n",
            "bidirectional_3 (Bidirectional) (None, 50, 1024)     3330048     embedding_1[1][0]                \n",
            "__________________________________________________________________________________________________\n",
            "bidirectional_4 (Bidirectional) (None, 50, 1024)     6295552     bidirectional_3[0][0]            \n",
            "__________________________________________________________________________________________________\n",
            "add_2 (Add)                     (None, 50, 1024)     0           bidirectional_3[0][0]            \n",
            "                                                                 bidirectional_4[0][0]            \n",
            "__________________________________________________________________________________________________\n",
            "time_distributed_1 (TimeDistrib (None, 50, 17)       17425       add_2[0][0]                      \n",
            "==================================================================================================\n",
            "Total params: 19,188,425\n",
            "Trainable params: 9,643,025\n",
            "Non-trainable params: 9,545,400\n",
            "__________________________________________________________________________________________________\n"
          ],
          "name": "stdout"
        }
      ]
    },
    {
      "cell_type": "code",
      "metadata": {
        "id": "mMmsdfcM7RdX",
        "colab_type": "code",
        "colab": {}
      },
      "source": [
        "from keras import optimizers as op"
      ],
      "execution_count": 0,
      "outputs": []
    },
    {
      "cell_type": "code",
      "metadata": {
        "id": "bL4wDM5I7c7O",
        "colab_type": "code",
        "colab": {}
      },
      "source": [
        "y_train_t = y_train.reshape(y_train.shape[0],y_train.shape[1],1)\n",
        "y_val_t = y_val.reshape(y_val.shape[0],y_val.shape[1],1)"
      ],
      "execution_count": 0,
      "outputs": []
    },
    {
      "cell_type": "code",
      "metadata": {
        "id": "Qz0xs2HGGWR9",
        "colab_type": "code",
        "colab": {
          "base_uri": "https://localhost:8080/",
          "height": 134
        },
        "outputId": "0edbac58-9dd5-4464-871a-8dbf8c0fbbf7"
      },
      "source": [
        "model.compile(loss='sparse_categorical_crossentropy',optimizer=op.Adam(lr=1e-3),metrics=['acc'])\n",
        "model.fit(np.array(X_train),y_train_t,batch_size=32,epochs=3,\n",
        "          validation_data=(np.array(X_val),y_val_t),)\n",
        "model.save('bi_dir10_1.h5')"
      ],
      "execution_count": 70,
      "outputs": [
        {
          "output_type": "stream",
          "text": [
            "Train on 32611 samples, validate on 5756 samples\n",
            "Epoch 1/3\n",
            "32611/32611 [==============================] - 4813s 148ms/step - loss: 0.1010 - acc: 0.9727 - val_loss: 0.0617 - val_acc: 0.9812\n",
            "Epoch 2/3\n",
            "32611/32611 [==============================] - 4884s 150ms/step - loss: 0.0573 - acc: 0.9822 - val_loss: 0.0549 - val_acc: 0.9829\n",
            "Epoch 3/3\n",
            "32611/32611 [==============================] - 4896s 150ms/step - loss: 0.0485 - acc: 0.9844 - val_loss: 0.0505 - val_acc: 0.9839\n"
          ],
          "name": "stdout"
        }
      ]
    },
    {
      "cell_type": "code",
      "metadata": {
        "id": "ZbS0UGd7jPMO",
        "colab_type": "code",
        "colab": {
          "base_uri": "https://localhost:8080/",
          "height": 34
        },
        "outputId": "59293765-b8df-4478-eb82-a2ad42e24f59"
      },
      "source": [
        "test_pred = model.predict(X_test,verbose=1)"
      ],
      "execution_count": 71,
      "outputs": [
        {
          "output_type": "stream",
          "text": [
            "9592/9592 [==============================] - 247s 26ms/step\n"
          ],
          "name": "stdout"
        }
      ]
    },
    {
      "cell_type": "code",
      "metadata": {
        "id": "KQO7EQ-EPP4s",
        "colab_type": "code",
        "colab": {
          "base_uri": "https://localhost:8080/",
          "height": 252
        },
        "outputId": "49c5bd95-ada8-4286-afa9-968efa589436"
      },
      "source": [
        "y_pt = pred2label(test_pred)\n",
        "y_tt = test2label(y_test)\n",
        "print(classification_report(y_tt, y_pt))"
      ],
      "execution_count": 75,
      "outputs": [
        {
          "output_type": "stream",
          "text": [
            "           precision    recall  f1-score   support\n",
            "\n",
            "      tim       0.85      0.85      0.85      4107\n",
            "      gpe       0.96      0.93      0.95      3173\n",
            "      per       0.72      0.77      0.74      3309\n",
            "      geo       0.84      0.87      0.86      7624\n",
            "      org       0.58      0.60      0.59      3958\n",
            "      nat       0.38      0.41      0.40        41\n",
            "      art       0.14      0.04      0.06        82\n",
            "      eve       0.62      0.31      0.41        58\n",
            "\n",
            "micro avg       0.79      0.81      0.80     22352\n",
            "macro avg       0.79      0.81      0.80     22352\n",
            "\n"
          ],
          "name": "stdout"
        }
      ]
    },
    {
      "cell_type": "code",
      "metadata": {
        "id": "R3HvM2bbXNLF",
        "colab_type": "code",
        "colab": {
          "base_uri": "https://localhost:8080/",
          "height": 67
        },
        "outputId": "c0d396d0-6d2e-499e-fdf0-96e46d31e969"
      },
      "source": [
        "import nltk\n",
        "from nltk.tokenize import word_tokenize\n",
        "nltk.download('punkt')"
      ],
      "execution_count": 80,
      "outputs": [
        {
          "output_type": "stream",
          "text": [
            "[nltk_data] Downloading package punkt to /root/nltk_data...\n",
            "[nltk_data]   Unzipping tokenizers/punkt.zip.\n"
          ],
          "name": "stdout"
        },
        {
          "output_type": "execute_result",
          "data": {
            "text/plain": [
              "True"
            ]
          },
          "metadata": {
            "tags": []
          },
          "execution_count": 80
        }
      ]
    },
    {
      "cell_type": "code",
      "metadata": {
        "id": "EjrLcyFTXNRw",
        "colab_type": "code",
        "colab": {}
      },
      "source": [
        "text = 'Kanimozhi went to Mumbai'\n",
        "def predict_on_text(text):\n",
        "  words = word_tokenize(text)\n",
        "\n",
        "  t_seq = []\n",
        "  for i in tok.texts_to_sequences(words):\n",
        "      try:\n",
        "          t_seq.append(i[0])\n",
        "      except:\n",
        "          t_seq.append(0)\n",
        "  t_seq_padded = np.array(pad_sequences(maxlen=max_len,sequences = [t_seq],padding=\"post\")).reshape(1,50)\n",
        "  pred = model.predict(t_seq_padded)\n",
        "  p = np.argmax(pred, axis=-1)[0]\n",
        "  print(\"{:15} : {}\".format(\"Word\", \"Pred\"))\n",
        "  print(\"=\"*30)\n",
        "\n",
        "  for j in range(len(words)):\n",
        "      print(\"{:15} :  {}\".format(words[j],idx2tag[p[j]]))"
      ],
      "execution_count": 0,
      "outputs": []
    },
    {
      "cell_type": "code",
      "metadata": {
        "id": "v2dMBnoNeIg0",
        "colab_type": "code",
        "colab": {}
      },
      "source": [
        "def print_seq(X,y,i):\n",
        "  X = X[i]\n",
        "  y = y[i]\n",
        "  p = model.predict(np.array(X.reshape(1,-1)))\n",
        "  p = np.argmax(p, axis=-1)[0]\n",
        "  print(\"{:20} {:5}  : \\t{}\".format(\"Word\", \"Pred\", \"True\"))\n",
        "  print(\"=\"*40)\n",
        "  words = tok.sequences_to_texts(X.reshape(1,50))[0].split()\n",
        " \n",
        "  for j in range(len(words)):\n",
        "    \n",
        "    print(\"{:20} {:5}  : \\t{}\".format(words[j],idx2tag[p[j]],idx2tag[y[j]]))\n",
        "i = 139\n",
        "print_seq(X_train,y_train,i)"
      ],
      "execution_count": 0,
      "outputs": []
    },
    {
      "cell_type": "markdown",
      "metadata": {
        "id": "7kiJi57pifJ-",
        "colab_type": "text"
      },
      "source": [
        "##Prediction"
      ]
    },
    {
      "cell_type": "code",
      "metadata": {
        "id": "a1mybux-iu9a",
        "colab_type": "code",
        "colab": {
          "base_uri": "https://localhost:8080/",
          "height": 118
        },
        "outputId": "102bae7f-86c2-4284-f242-532c726ba97e"
      },
      "source": [
        "predict_on_text('Karthick went to Mumbai')"
      ],
      "execution_count": 123,
      "outputs": [
        {
          "output_type": "stream",
          "text": [
            "Word            : Pred\n",
            "==============================\n",
            "Karthick        :  O\n",
            "went            :  O\n",
            "to              :  O\n",
            "Mumbai          :  B-geo\n"
          ],
          "name": "stdout"
        }
      ]
    },
    {
      "cell_type": "code",
      "metadata": {
        "id": "HYsAyOYTXNAo",
        "colab_type": "code",
        "colab": {
          "base_uri": "https://localhost:8080/",
          "height": 235
        },
        "outputId": "ce4962eb-7ed0-48b4-b93c-920f17168118"
      },
      "source": [
        "predict_on_text(\"Kanimozhi went to Mumbai from Chennai Railway Station yesterday night.\")"
      ],
      "execution_count": 122,
      "outputs": [
        {
          "output_type": "stream",
          "text": [
            "Word            : Pred\n",
            "==============================\n",
            "Kanimozhi       :  O\n",
            "went            :  O\n",
            "to              :  O\n",
            "Mumbai          :  B-geo\n",
            "from            :  O\n",
            "Chennai         :  B-geo\n",
            "Railway         :  O\n",
            "Station         :  O\n",
            "yesterday       :  B-tim\n",
            "night           :  I-tim\n",
            ".               :  O\n"
          ],
          "name": "stdout"
        }
      ]
    },
    {
      "cell_type": "code",
      "metadata": {
        "id": "OuBifgFRXM96",
        "colab_type": "code",
        "colab": {
          "base_uri": "https://localhost:8080/",
          "height": 151
        },
        "outputId": "727e36a9-189a-4d4f-d98d-cedf9480ed17"
      },
      "source": [
        "predict_on_text('India won in the Commonwealth Games')"
      ],
      "execution_count": 124,
      "outputs": [
        {
          "output_type": "stream",
          "text": [
            "Word            : Pred\n",
            "==============================\n",
            "India           :  B-geo\n",
            "won             :  O\n",
            "in              :  O\n",
            "the             :  O\n",
            "Commonwealth    :  B-org\n",
            "Games           :  O\n"
          ],
          "name": "stdout"
        }
      ]
    },
    {
      "cell_type": "code",
      "metadata": {
        "id": "cnaaVClmTcvE",
        "colab_type": "code",
        "colab": {
          "base_uri": "https://localhost:8080/",
          "height": 168
        },
        "outputId": "8f24d6e8-f11f-4125-d099-d4191801b928"
      },
      "source": [
        "predict_on_text(\"Aakash is working for Infosys Ltd.\")"
      ],
      "execution_count": 125,
      "outputs": [
        {
          "output_type": "stream",
          "text": [
            "Word            : Pred\n",
            "==============================\n",
            "Aakash          :  B-org\n",
            "is              :  O\n",
            "working         :  O\n",
            "for             :  O\n",
            "Infosys         :  O\n",
            "Ltd             :  O\n",
            ".               :  O\n"
          ],
          "name": "stdout"
        }
      ]
    },
    {
      "cell_type": "code",
      "metadata": {
        "id": "bVYQZdUacQev",
        "colab_type": "code",
        "colab": {
          "base_uri": "https://localhost:8080/",
          "height": 202
        },
        "outputId": "c69ddb5c-76cb-4eb6-ac52-39f0545d2c90"
      },
      "source": [
        "predict_on_text(\"Kamal went to Ibaco yesterday to eat ice cream\")"
      ],
      "execution_count": 126,
      "outputs": [
        {
          "output_type": "stream",
          "text": [
            "Word            : Pred\n",
            "==============================\n",
            "Kamal           :  B-per\n",
            "went            :  O\n",
            "to              :  O\n",
            "Ibaco           :  O\n",
            "yesterday       :  B-tim\n",
            "to              :  O\n",
            "eat             :  O\n",
            "ice             :  O\n",
            "cream           :  O\n"
          ],
          "name": "stdout"
        }
      ]
    },
    {
      "cell_type": "code",
      "metadata": {
        "id": "FjOpwm-SkfbL",
        "colab_type": "code",
        "colab": {}
      },
      "source": [
        ""
      ],
      "execution_count": 0,
      "outputs": []
    }
  ]
}